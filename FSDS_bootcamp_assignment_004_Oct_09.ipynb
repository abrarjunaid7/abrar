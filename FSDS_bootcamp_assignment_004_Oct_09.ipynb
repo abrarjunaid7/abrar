{
 "cells": [
  {
   "cell_type": "code",
   "execution_count": 13,
   "id": "50691a23",
   "metadata": {},
   "outputs": [
    {
     "name": "stdout",
     "output_type": "stream",
     "text": [
      "largest is 525\n"
     ]
    }
   ],
   "source": [
    "#Q1. Find the largest number from the given list, use for loop.\n",
    "numbers = [12, 75, 150, 180, 145, 525, 50]\n",
    "max=0\n",
    "for i in numbers:\n",
    "    if max<i:\n",
    "        max=i\n",
    "print(\"largest is\",max)"
   ]
  },
  {
   "cell_type": "code",
   "execution_count": 19,
   "id": "acb16be5",
   "metadata": {},
   "outputs": [
    {
     "name": "stdout",
     "output_type": "stream",
     "text": [
      "2\n",
      "4\n",
      "6\n",
      "8\n",
      "10\n"
     ]
    }
   ],
   "source": [
    "#Q2. Print all the even number between (1, 12).\n",
    "for i in range(1,12):\n",
    "    if i%2==0:\n",
    "        print(i)"
   ]
  },
  {
   "cell_type": "code",
   "execution_count": 4,
   "id": "be4e1e8c",
   "metadata": {},
   "outputs": [
    {
     "name": "stdout",
     "output_type": "stream",
     "text": [
      "enter any number10\n",
      "55\n"
     ]
    }
   ],
   "source": [
    "#Q3. Calculate the sum of all numbers from 1 to a given number\n",
    "n=int(input(\"enter any number\"))\n",
    "sum=0\n",
    "for i in range(1,n+1):\n",
    "    sum=sum+i\n",
    "print(sum)"
   ]
  },
  {
   "cell_type": "code",
   "execution_count": null,
   "id": "72061b3d",
   "metadata": {},
   "outputs": [],
   "source": [
    "#Q4. Write a program to display only those numbers from a list that satisfy the following conditions\n",
    "  #The number must be divisible by five\n",
    "  #If the number is greater than 150, then skip it and move to the next number\n",
    "  #If the number is greater than 500, then stop the loop"
   ]
  },
  {
   "cell_type": "code",
   "execution_count": 12,
   "id": "23ee8389",
   "metadata": {},
   "outputs": [
    {
     "name": "stdout",
     "output_type": "stream",
     "text": [
      "75\n",
      "150\n",
      "145\n"
     ]
    }
   ],
   "source": [
    "numbers = [12, 75, 150, 180, 145, 525, 50]\n",
    "for i in numbers:\n",
    "    if i%5==0:\n",
    "        if i>500:\n",
    "            break\n",
    "        if i>150:\n",
    "            continue\n",
    "        print(i)"
   ]
  },
  {
   "cell_type": "code",
   "execution_count": 14,
   "id": "c2b4c756",
   "metadata": {},
   "outputs": [
    {
     "name": "stdout",
     "output_type": "stream",
     "text": [
      "[50, 40, 30, 20, 10]\n"
     ]
    }
   ],
   "source": [
    "#Q5. Print the given list in reverse order.\n",
    "list1 = [10, 20, 30, 40, 50]\n",
    "list1.reverse()\n",
    "print(list1)"
   ]
  },
  {
   "cell_type": "code",
   "execution_count": null,
   "id": "66201027",
   "metadata": {},
   "outputs": [],
   "source": []
  }
 ],
 "metadata": {
  "kernelspec": {
   "display_name": "Python 3 (ipykernel)",
   "language": "python",
   "name": "python3"
  },
  "language_info": {
   "codemirror_mode": {
    "name": "ipython",
    "version": 3
   },
   "file_extension": ".py",
   "mimetype": "text/x-python",
   "name": "python",
   "nbconvert_exporter": "python",
   "pygments_lexer": "ipython3",
   "version": "3.9.12"
  }
 },
 "nbformat": 4,
 "nbformat_minor": 5
}
