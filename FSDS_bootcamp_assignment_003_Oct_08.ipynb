{
 "cells": [
  {
   "cell_type": "code",
   "execution_count": 1,
   "id": "0e46cc17",
   "metadata": {},
   "outputs": [
    {
     "name": "stdout",
     "output_type": "stream",
     "text": [
      "3\n"
     ]
    }
   ],
   "source": [
    "#1. Count the number of times `iNeuron` appears in the string\n",
    "text = \"Welcome to iNeuron, You are a part of FSDS Bootcamp 2 in iNeuron. I hope you are enjoying the course by iNeuron\"\n",
    "print(text.count(\"iNeuron\"))"
   ]
  },
  {
   "cell_type": "code",
   "execution_count": 5,
   "id": "b8e4fe00",
   "metadata": {},
   "outputs": [
    {
     "name": "stdout",
     "output_type": "stream",
     "text": [
      "True\n"
     ]
    }
   ],
   "source": [
    "#2. Check if position `5` to `11` ends with the phrase `iNeuron.` in the string\n",
    "txt1 = \"Hello, welcome to FSDS 2.0 at iNeuron.\"\n",
    "print(txt1.endswith(\"iNeuron.\"))"
   ]
  },
  {
   "cell_type": "code",
   "execution_count": 8,
   "id": "aa731c3f",
   "metadata": {},
   "outputs": [
    {
     "name": "stdout",
     "output_type": "stream",
     "text": [
      "S . A . JUNAID\n"
     ]
    }
   ],
   "source": [
    "#3. Write a program that takes your full name as input and displays the abbreviations of the first and middle names except the last name which is displayed as it is. For example, if your name is Sunny Bhaveen Chandra, then the output should be S.B.Chandra.\n",
    "name='SHAIK ABRAR JUNAID'\n",
    "f_name,l_name,m_name=name.split(' ')\n",
    "print(f_name[0],'.',l_name[0],'.',m_name)"
   ]
  },
  {
   "cell_type": "code",
   "execution_count": 10,
   "id": "06273593",
   "metadata": {},
   "outputs": [
    {
     "data": {
      "text/plain": [
       "'My#name#is#Rivash#Dash'"
      ]
     },
     "execution_count": 10,
     "metadata": {},
     "output_type": "execute_result"
    }
   ],
   "source": [
    "#4. Join all items in a list into a string, using a hash(`#`) character as separator\n",
    "LIST = [\"My\", \"name\", \"is\", \"Rivash\", \"Dash\"]\n",
    "\"#\".join(LIST)"
   ]
  },
  {
   "cell_type": "code",
   "execution_count": 13,
   "id": "c53df7d4",
   "metadata": {},
   "outputs": [
    {
     "data": {
      "text/plain": [
       "False"
      ]
     },
     "execution_count": 13,
     "metadata": {},
     "output_type": "execute_result"
    }
   ],
   "source": [
    "#Write example for the following string manipulation function,\n",
    " #- islower()\n",
    "  #- isupper()\n",
    "  #- isalpha()\n",
    "  #- isnumeric()\n",
    "str='Junaid'    \n",
    "str.islower()"
   ]
  },
  {
   "cell_type": "code",
   "execution_count": 15,
   "id": "3586843e",
   "metadata": {},
   "outputs": [
    {
     "data": {
      "text/plain": [
       "False"
      ]
     },
     "execution_count": 15,
     "metadata": {},
     "output_type": "execute_result"
    }
   ],
   "source": [
    "str='Junaid'\n",
    "str.isupper()"
   ]
  },
  {
   "cell_type": "code",
   "execution_count": 16,
   "id": "128af96c",
   "metadata": {},
   "outputs": [
    {
     "data": {
      "text/plain": [
       "True"
      ]
     },
     "execution_count": 16,
     "metadata": {},
     "output_type": "execute_result"
    }
   ],
   "source": [
    "str2='Junaid'\n",
    "str2.isalpha()\n"
   ]
  },
  {
   "cell_type": "code",
   "execution_count": 18,
   "id": "f6cb3baf",
   "metadata": {},
   "outputs": [
    {
     "data": {
      "text/plain": [
       "True"
      ]
     },
     "execution_count": 18,
     "metadata": {},
     "output_type": "execute_result"
    }
   ],
   "source": [
    "str3='123'\n",
    "str3.isnumeric()"
   ]
  },
  {
   "cell_type": "code",
   "execution_count": 1,
   "id": "af638dc5",
   "metadata": {},
   "outputs": [
    {
     "name": "stdout",
     "output_type": "stream",
     "text": [
      "ABCDE9999Y\n",
      "ABCDE9999Y is valid\n"
     ]
    }
   ],
   "source": [
    "#6. Indian PAN card format follows the following formats - \n",
    "#   - `ABCDE9999Y`\n",
    "#  Take user input for PAN_CARD and validate as per the above example.\n",
    "PAN_CARD=input()\n",
    "if len(PAN_CARD)==10 and PAN_CARD[0:5].isupper() and PAN_CARD[5:9].isnumeric() and PAN_CARD[9].isupper():\n",
    "    print(PAN_CARD,\"is valid\")\n",
    "else:\n",
    "    print(PAN_CARD,\"is not valid\")"
   ]
  },
  {
   "cell_type": "code",
   "execution_count": null,
   "id": "5e6d6b55",
   "metadata": {},
   "outputs": [],
   "source": []
  },
  {
   "cell_type": "code",
   "execution_count": null,
   "id": "312f7884",
   "metadata": {},
   "outputs": [],
   "source": []
  }
 ],
 "metadata": {
  "kernelspec": {
   "display_name": "Python 3 (ipykernel)",
   "language": "python",
   "name": "python3"
  },
  "language_info": {
   "codemirror_mode": {
    "name": "ipython",
    "version": 3
   },
   "file_extension": ".py",
   "mimetype": "text/x-python",
   "name": "python",
   "nbconvert_exporter": "python",
   "pygments_lexer": "ipython3",
   "version": "3.9.12"
  }
 },
 "nbformat": 4,
 "nbformat_minor": 5
}
